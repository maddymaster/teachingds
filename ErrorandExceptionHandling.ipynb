{
 "cells": [
  {
   "cell_type": "code",
   "execution_count": 1,
   "metadata": {},
   "outputs": [
    {
     "name": "stdout",
     "output_type": "stream",
     "text": [
      "Please enter an integer: hello\n",
      "That is not an integer\n",
      "the finally block got executed\n",
      "Please enter an integer: oh ho\n",
      "That is not an integer\n",
      "the finally block got executed\n",
      "Please enter an integer: python\n",
      "That is not an integer\n",
      "the finally block got executed\n",
      "Please enter an integer: 34\n",
      "Oh yes thats an integer, you are learning fast! good!\n",
      "the finally block got executed\n"
     ]
    }
   ],
   "source": [
    "def askint():\n",
    "    while True:\n",
    "        try:\n",
    "            val = int(input(\"Please enter an integer: \"))\n",
    "        except:\n",
    "            print(\"That is not an integer\")\n",
    "            continue\n",
    "        # Add a keyboard interrupt exception\n",
    "        else:\n",
    "            print(\"Oh yes thats an integer, you are learning fast! good!\")\n",
    "            break\n",
    "\n",
    "        finally:\n",
    "            print(\"the finally block got executed\")\n",
    "\n",
    "        print(val)\n",
    "\n",
    "askint()"
   ]
  },
  {
   "cell_type": "code",
   "execution_count": null,
   "metadata": {},
   "outputs": [],
   "source": []
  }
 ],
 "metadata": {
  "kernelspec": {
   "display_name": "Python 3",
   "language": "python",
   "name": "python3"
  },
  "language_info": {
   "codemirror_mode": {
    "name": "ipython",
    "version": 3
   },
   "file_extension": ".py",
   "mimetype": "text/x-python",
   "name": "python",
   "nbconvert_exporter": "python",
   "pygments_lexer": "ipython3",
   "version": "3.7.0"
  }
 },
 "nbformat": 4,
 "nbformat_minor": 2
}
