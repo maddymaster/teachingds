{
 "cells": [
  {
   "cell_type": "code",
   "execution_count": null,
   "metadata": {},
   "outputs": [],
   "source": [
    "#python\n",
    "if (have_money):\n",
    "    do something\n",
    "    do something\n",
    "else: \n",
    "    do somethingelse "
   ]
  },
  {
   "cell_type": "code",
   "execution_count": null,
   "metadata": {},
   "outputs": [],
   "source": []
  },
  {
   "cell_type": "code",
   "execution_count": null,
   "metadata": {},
   "outputs": [],
   "source": []
  },
  {
   "cell_type": "code",
   "execution_count": null,
   "metadata": {},
   "outputs": [],
   "source": [
    "#other languages\n",
    "if (have_money){\n",
    "    do something;\n",
    "    do something;\n",
    "}\n",
    "else{\n",
    "    do somethingelse; \n",
    "}"
   ]
  },
  {
   "cell_type": "code",
   "execution_count": 3,
   "metadata": {},
   "outputs": [
    {
     "name": "stdout",
     "output_type": "stream",
     "text": [
      "X is true\n"
     ]
    }
   ],
   "source": [
    "x = True\n",
    "if x:\n",
    "    print(\"X is true\")\n",
    "else:\n",
    "    print(\"x will be printed if its false\")"
   ]
  },
  {
   "cell_type": "code",
   "execution_count": 12,
   "metadata": {},
   "outputs": [
    {
     "name": "stdout",
     "output_type": "stream",
     "text": [
      "I do not recognize you. You are not a friend\n"
     ]
    }
   ],
   "source": [
    "friend = \"Tom Hanks\"\n",
    "\n",
    "if friend == \"Sreekanth\":\n",
    "    print(\"Door will open for you \")\n",
    "elif friend == \"Arun\":\n",
    "    print(\"Welcome Arun you are my school friend\")\n",
    "else:\n",
    "    print(\"I do not recognize you. You are not a friend\")"
   ]
  },
  {
   "cell_type": "code",
   "execution_count": null,
   "metadata": {},
   "outputs": [],
   "source": [
    "location = \"Bank\"\n",
    "#print if its bank - print I am at bank\n",
    "#print if its grocery store - print grocery store\n",
    "#print if its anything else - print where are you?"
   ]
  },
  {
   "cell_type": "code",
   "execution_count": null,
   "metadata": {},
   "outputs": [],
   "source": []
  }
 ],
 "metadata": {
  "kernelspec": {
   "display_name": "Python 3",
   "language": "python",
   "name": "python3"
  },
  "language_info": {
   "codemirror_mode": {
    "name": "ipython",
    "version": 3
   },
   "file_extension": ".py",
   "mimetype": "text/x-python",
   "name": "python",
   "nbconvert_exporter": "python",
   "pygments_lexer": "ipython3",
   "version": "3.7.0"
  }
 },
 "nbformat": 4,
 "nbformat_minor": 2
}
