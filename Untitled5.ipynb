{
 "cells": [
  {
   "cell_type": "code",
   "execution_count": null,
   "metadata": {},
   "outputs": [],
   "source": [
    "s = Zurich Weather Forecast. Providing a local 3 hourly Zurich weather forecast of rain, sun, wind, humidity and temperature. The Long-range 10 day forecast also includes detail for Zurich weather today. Live weather reports from Zurich weather stations and weather warnings that include risk of thunder, high UV index and forecast gales. See the links below the 10-day Zurich weather forecast table for other cities and towns nearby along with weather conditions for local outdoor activities."
   ]
  },
  {
   "cell_type": "code",
   "execution_count": 2,
   "metadata": {},
   "outputs": [],
   "source": [
    "s = \"s = Zurich Weather Forecast. Providing a local 3 hourly Zurich weather forecast of rain, sun, wind, humidity and temperature. The Long-range 10 day forecast also includes detail for Zurich weather today. Live weather reports from Zurich weather stations and weather warnings that include risk of thunder, high UV index and forecast gales. See the links below the 10-day Zurich weather forecast table for other cities and towns nearby along with weather conditions for local outdoor activities.\""
   ]
  },
  {
   "cell_type": "code",
   "execution_count": 3,
   "metadata": {},
   "outputs": [
    {
     "data": {
      "text/plain": [
       "493"
      ]
     },
     "execution_count": 3,
     "metadata": {},
     "output_type": "execute_result"
    }
   ],
   "source": [
    "len(s)"
   ]
  },
  {
   "cell_type": "code",
   "execution_count": null,
   "metadata": {},
   "outputs": [],
   "source": []
  }
 ],
 "metadata": {
  "kernelspec": {
   "display_name": "Python 3",
   "language": "python",
   "name": "python3"
  },
  "language_info": {
   "codemirror_mode": {
    "name": "ipython",
    "version": 3
   },
   "file_extension": ".py",
   "mimetype": "text/x-python",
   "name": "python",
   "nbconvert_exporter": "python",
   "pygments_lexer": "ipython3",
   "version": "3.7.0"
  }
 },
 "nbformat": 4,
 "nbformat_minor": 2
}
