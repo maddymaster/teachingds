{
 "cells": [
  {
   "cell_type": "code",
   "execution_count": null,
   "metadata": {},
   "outputs": [],
   "source": [
    "def askint():\n",
    "    while True:\n",
    "        try:\n",
    "            val = int(input(\"Please enter an integer: \"))\n",
    "        except:\n",
    "            print(\"That is not an integer\")\n",
    "            continue\n",
    "        # Add a keyboard interrupt exception\n",
    "        else:\n",
    "            print(\"Oh yes thats an integer, you are learning fast! good!\")\n",
    "            break\n",
    "\n",
    "        finally:\n",
    "            print(\"the finally block got executed\")\n",
    "\n",
    "        print(val)\n",
    "\n",
    "askint()"
   ]
  }
 ],
 "metadata": {
  "kernelspec": {
   "display_name": "Python 3",
   "language": "python",
   "name": "python3"
  },
  "language_info": {
   "codemirror_mode": {
    "name": "ipython",
    "version": 3
   },
   "file_extension": ".py",
   "mimetype": "text/x-python",
   "name": "python",
   "nbconvert_exporter": "python",
   "pygments_lexer": "ipython3",
   "version": "3.7.0"
  }
 },
 "nbformat": 4,
 "nbformat_minor": 2
}
