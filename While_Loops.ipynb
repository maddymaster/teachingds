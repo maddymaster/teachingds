{
 "cells": [
  {
   "cell_type": "code",
   "execution_count": 2,
   "metadata": {},
   "outputs": [
    {
     "name": "stdout",
     "output_type": "stream",
     "text": [
      "x is currently:  10\n",
      " x is still less than 15, adding 1 to x\n",
      "x is currently:  11\n",
      " x is still less than 15, adding 1 to x\n",
      "x is currently:  12\n",
      " x is still less than 15, adding 1 to x\n",
      "x is currently:  13\n",
      " x is still less than 15, adding 1 to x\n",
      "x is currently:  14\n",
      " x is still less than 15, adding 1 to x\n"
     ]
    }
   ],
   "source": [
    "x = 10\n",
    "\n",
    "while x < 15:\n",
    "    print ('x is currently: ', x)\n",
    "    print (' x is still less than 15, adding 1 to x')\n",
    "    x += 1"
   ]
  },
  {
   "cell_type": "code",
   "execution_count": 3,
   "metadata": {},
   "outputs": [
    {
     "name": "stdout",
     "output_type": "stream",
     "text": [
      "x is currently:  10\n",
      " x is still less than 15, adding 1 to x\n",
      "x is currently:  11\n",
      " x is still less than 15, adding 1 to x\n",
      "x is currently:  12\n",
      " x is still less than 15, adding 1 to x\n",
      "x is currently:  13\n",
      " x is still less than 15, adding 1 to x\n",
      "x is currently:  14\n",
      " x is still less than 15, adding 1 to x\n",
      "While loop completed sir!\n"
     ]
    }
   ],
   "source": [
    "x = 10\n",
    "\n",
    "while x < 15:\n",
    "    print ('x is currently: ', x)\n",
    "    print (' x is still less than 15, adding 1 to x')\n",
    "    x += 1\n",
    "\n",
    "else:\n",
    "    print(\"While loop completed sir!\")"
   ]
  },
  {
   "cell_type": "code",
   "execution_count": 13,
   "metadata": {},
   "outputs": [
    {
     "name": "stdout",
     "output_type": "stream",
     "text": [
      "x is currently:  0\n",
      " x is still less than 10, adding 1 to x\n",
      "continuing the loop......\n",
      "x is currently:  1\n",
      " x is still less than 10, adding 1 to x\n",
      "continuing the loop......\n",
      "x is currently:  2\n",
      " x is still less than 10, adding 1 to x\n",
      "continuing the loop......\n",
      "x is currently:  3\n",
      " x is still less than 10, adding 1 to x\n",
      "continuing the loop......\n",
      "x is currently:  4\n",
      " x is still less than 10, adding 1 to x\n",
      "x is now equal to four\n"
     ]
    }
   ],
   "source": [
    "x = 0\n",
    "\n",
    "while x < 10:\n",
    "    print ('x is currently: ', x)\n",
    "    print (' x is still less than 10, adding 1 to x')\n",
    "    x +=1\n",
    "    if x == 5:\n",
    "        print (\"x is now equal to four\")\n",
    "        break\n",
    "    else:\n",
    "        print(\"continuing the loop......\")\n",
    "        continue"
   ]
  },
  {
   "cell_type": "code",
   "execution_count": null,
   "metadata": {},
   "outputs": [],
   "source": [
    "while True:\n",
    "    print(\"I am the loop of infinity\")"
   ]
  }
 ],
 "metadata": {
  "kernelspec": {
   "display_name": "Python 3",
   "language": "python",
   "name": "python3"
  },
  "language_info": {
   "codemirror_mode": {
    "name": "ipython",
    "version": 3
   },
   "file_extension": ".py",
   "mimetype": "text/x-python",
   "name": "python",
   "nbconvert_exporter": "python",
   "pygments_lexer": "ipython3",
   "version": "3.7.0"
  }
 },
 "nbformat": 4,
 "nbformat_minor": 2
}
